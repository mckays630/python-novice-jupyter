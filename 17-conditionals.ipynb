{
 "cells": [
  {
   "cell_type": "markdown",
   "metadata": {},
   "source": [
    "# Conditionals"
   ]
  },
  {
   "cell_type": "markdown",
   "metadata": {},
   "source": [
    "## Use `if` statements to control whether or not a block of code is executed.\n",
    "\n",
    "*   An `if` statement (more properly called a *conditional* statement)\n",
    "controls whether some block of code is executed or not.\n",
    "*   Structure is similar to a `for` statement:\n",
    "*   First line opens with `if` and ends with a colon\n",
    "*   Body containing one or more statements is indented (usually by 4 spaces)"
   ]
  },
  {
   "cell_type": "code",
   "execution_count": null,
   "metadata": {},
   "outputs": [],
   "source": []
  },
  {
   "cell_type": "markdown",
   "metadata": {},
   "source": [
    "\n",
    "\n",
    "## Conditionals are often used inside loops.\n",
    "\n",
    "*   Not much point using a conditional when we know the value (as above).\n",
    "*   But useful when we have a collection to process."
   ]
  },
  {
   "cell_type": "code",
   "execution_count": null,
   "metadata": {},
   "outputs": [],
   "source": []
  },
  {
   "cell_type": "markdown",
   "metadata": {},
   "source": [
    "\n",
    "\n",
    "## Use `else` to execute a block of code when an `if` condition is *not* true.\n",
    "\n",
    "*   `else` can be used following an `if`.\n",
    "*   Allows us to specify an alternative to execute when the `if` *branch* isn't taken."
   ]
  },
  {
   "cell_type": "code",
   "execution_count": null,
   "metadata": {},
   "outputs": [],
   "source": []
  },
  {
   "cell_type": "markdown",
   "metadata": {},
   "source": [
    "\n",
    "\n",
    "## Use `elif` to specify additional tests.\n",
    "\n",
    "*   May want to provide several alternative choices, each with its own test.\n",
    "*   Use `elif` (short for \"else if\") and a condition to specify these.\n",
    "*   Always associated with an `if`.\n",
    "*   Must come before the `else` (which is the \"catch all\")."
   ]
  },
  {
   "cell_type": "code",
   "execution_count": null,
   "metadata": {},
   "outputs": [],
   "source": []
  },
  {
   "cell_type": "markdown",
   "metadata": {},
   "source": [
    "\n",
    "\n",
    "## Conditions are tested once, in order.\n",
    "\n",
    "*   Python steps through the branches of the conditional in order, testing each in turn.\n",
    "*   So ordering matters."
   ]
  },
  {
   "cell_type": "code",
   "execution_count": null,
   "metadata": {},
   "outputs": [],
   "source": []
  },
  {
   "cell_type": "markdown",
   "metadata": {},
   "source": [
    "\n",
    "\n",
    "*   Does *not* automatically go back and re-evaluate if values change."
   ]
  },
  {
   "cell_type": "code",
   "execution_count": null,
   "metadata": {},
   "outputs": [],
   "source": []
  },
  {
   "cell_type": "markdown",
   "metadata": {},
   "source": [
    "\n",
    "\n",
    "*   Often use conditionals in a loop to \"evolve\" the values of variables."
   ]
  },
  {
   "cell_type": "code",
   "execution_count": null,
   "metadata": {},
   "outputs": [],
   "source": []
  },
  {
   "cell_type": "markdown",
   "metadata": {},
   "source": [
    "# Challenges"
   ]
  },
  {
   "cell_type": "markdown",
   "metadata": {},
   "source": [
    "## Create a table showing variables' values to trace a program's execution.\n",
    "\n",
    "<table>\n",
    "<tr>\n",
    "<td><strong>i</strong></td>\n",
    "<td>0</td>\n",
    "<td>.</td>\n",
    "<td>1</td>\n",
    "<td>.</td>\n",
    "<td>2</td>\n",
    "<td>.</td>\n",
    "<td>3</td>\n",
    "<td>.</td>\n",
    "<td>4</td>\n",
    "<td>.</td>\n",
    "</tr>\n",
    "<tr>\n",
    "<td><strong>velocity</strong></td>\n",
    "<td>10.0</td>\n",
    "<td>20.0</td>\n",
    "<td>.</td>\n",
    "<td>30.0</td>\n",
    "<td>.</td>\n",
    "<td>25.0</td>\n",
    "<td>.</td>\n",
    "<td>20.0</td>\n",
    "<td>.</td>\n",
    "<td>30.0</td>\n",
    "</tr>\n",
    "</table>\n",
    "\n",
    "*   The program must have a `print` statement *outside* the body of the loop\n",
    "to show the final value of `velocity`,\n",
    "since its value is updated by the last iteration of the loop."
   ]
  },
  {
   "cell_type": "code",
   "execution_count": null,
   "metadata": {},
   "outputs": [],
   "source": []
  },
  {
   "cell_type": "markdown",
   "metadata": {},
   "source": [
    "## Compound Relations Using `and`, `or`, and Parentheses\n",
    "\n",
    "Often, you want some combination of things to be true.  You can combine\n",
    "relations within a conditional using `and` and `or`.  Continuing the example\n",
    "above, suppose you have\n",
    "\n",
    "~~~python\n",
    "mass     = [ 3.54,  2.07,  9.22,  1.86,  1.71]\n",
    "velocity = [10.00, 20.00, 30.00, 25.00, 20.00]\n",
    "\n",
    "i = 0\n",
    "for i in range(5):\n",
    "    if mass[i] > 5 and velocity[i] > 20:\n",
    "        print(\"Fast heavy object.  Duck!\")\n",
    "    elif mass[i] > 2 and mass[i] <= 5 and velocity[i] <= 20:\n",
    "        print(\"Normal traffic\")\n",
    "    elif mass[i] <= 2 and velocity[i] <= 20:\n",
    "        print(\"Slow light object.  Ignore it\")\n",
    "    else:\n",
    "        print(\"Whoa!  Something is up with the data.  Check it\")\n",
    "~~~\n",
    "\n",
    "\n",
    "Just like with arithmetic, you can and should use parentheses whenever there\n",
    "is possible ambiguity.  A good general rule is to *always* use parentheses\n",
    "when mixing `and` and `or` in the same condition.  That is, instead of:\n",
    "\n",
    "~~~python\n",
    "if mass[i] <= 2 or mass[i] >= 5 and velocity[i] > 20:\n",
    "~~~\n",
    "\n",
    "\n",
    "write one of these:\n",
    "\n",
    "~~~python\n",
    "if (mass[i] <= 2 or mass[i] >= 5) and velocity[i] > 20:\n",
    "if mass[i] <= 2 or (mass[i] >= 5 and velocity[i] > 20):\n",
    "~~~\n",
    "\n",
    "\n",
    "so it is perfectly clear to a reader (and to Python) what you really mean."
   ]
  },
  {
   "cell_type": "code",
   "execution_count": 1,
   "metadata": {},
   "outputs": [
    {
     "name": "stdout",
     "output_type": "stream",
     "text": [
      "Normal traffic\n",
      "Normal traffic\n",
      "Fast heavy object.  Duck!\n",
      "Whoa!  Something is up with the data.  Check it\n",
      "Slow light object.  Ignore it\n"
     ]
    }
   ],
   "source": [
    "mass     = [ 3.54,  2.07,  9.22,  1.86,  1.71]\n",
    "velocity = [10.00, 20.00, 30.00, 25.00, 20.00]\n",
    "\n",
    "i = 0\n",
    "for i in range(5):\n",
    "    if mass[i] > 5 and velocity[i] > 20:\n",
    "        print(\"Fast heavy object.  Duck!\")\n",
    "    elif mass[i] > 2 and mass[i] <= 5 and velocity[i] <= 20:\n",
    "        print(\"Normal traffic\")\n",
    "    elif mass[i] <= 2 and velocity[i] <= 20:\n",
    "        print(\"Slow light object.  Ignore it\")\n",
    "    else:\n",
    "        print(\"Whoa!  Something is up with the data.  Check it\")"
   ]
  },
  {
   "cell_type": "markdown",
   "metadata": {},
   "source": [
    "## Tracing Execution\n",
    "\n",
    "What does this program print?\n",
    "\n",
    "~~~\n",
    "pressure = 71.9\n",
    "if pressure > 50.0:\n",
    "pressure = 25.0\n",
    "elif pressure <= 50.0:\n",
    "pressure = 0.0\n",
    "print(pressure)\n",
    "~~~"
   ]
  },
  {
   "cell_type": "code",
   "execution_count": null,
   "metadata": {},
   "outputs": [],
   "source": []
  },
  {
   "cell_type": "markdown",
   "metadata": {},
   "source": [
    "## Trimming Values\n",
    "\n",
    "Fill in the blanks so that this program creates a new list\n",
    "containing zeroes where the original list's values were negative\n",
    "and ones where the original list's values were positive.\n",
    "\n",
    "~~~\n",
    "original = [-1.5, 0.2, 0.4, 0.0, -1.3, 0.4]\n",
    "result = ____\n",
    "for value in original:\n",
    "if ____:\n",
    "result.append(0)\n",
    "else:\n",
    "____\n",
    "print(result)\n",
    "~~~\n",
    "\n",
    "\n",
    "~~~\n",
    "[0, 1, 1, 1, 0, 1]\n",
    "~~~"
   ]
  },
  {
   "cell_type": "code",
   "execution_count": null,
   "metadata": {},
   "outputs": [],
   "source": []
  },
  {
   "cell_type": "markdown",
   "metadata": {},
   "source": [
    "## Processing Small Files\n",
    "\n",
    "Modify this program so that it only processes files with fewer than 50 records.\n",
    "\n",
    "~~~\n",
    "import glob\n",
    "import pandas\n",
    "for filename in glob.glob('data/*.csv'):\n",
    "contents = pandas.read_csv(filename)\n",
    "____:\n",
    "print(filename, len(contents))\n",
    "~~~"
   ]
  },
  {
   "cell_type": "code",
   "execution_count": null,
   "metadata": {},
   "outputs": [],
   "source": []
  },
  {
   "cell_type": "markdown",
   "metadata": {},
   "source": [
    "## Initializing\n",
    "\n",
    "Modify this program so that it finds the largest and smallest values in the list\n",
    "no matter what the range of values originally is.\n",
    "\n",
    "~~~\n",
    "values = [...some test data...]\n",
    "smallest, largest = None, None\n",
    "for v in values:\n",
    "if ____:\n",
    "smallest, largest = v, v\n",
    "____:\n",
    "smallest = min(____, v)\n",
    "largest = max(____, v)\n",
    "print(smallest, largest)\n",
    "~~~\n",
    "\n",
    "\n",
    "What are the advantages and disadvantages of using this method\n",
    "to find the range of the data?"
   ]
  },
  {
   "cell_type": "code",
   "execution_count": null,
   "metadata": {},
   "outputs": [],
   "source": []
  },
  {
   "cell_type": "markdown",
   "metadata": {},
   "source": [
    "## Using Functions With Conditionals in Pandas\n",
    "\n",
    "Functions will often contain conditionals.  Here is a short example that\n",
    "will indicate which quartile the argument is in based on hand-coded values\n",
    "for the quartile cut points."
   ]
  },
  {
   "cell_type": "code",
   "execution_count": 1,
   "metadata": {},
   "outputs": [
    {
     "data": {
      "text/plain": [
       "2"
      ]
     },
     "execution_count": 1,
     "metadata": {},
     "output_type": "execute_result"
    }
   ],
   "source": [
    "def calculate_life_quartile(exp):\n",
    "    if exp < 58.41:\n",
    "        # This observation is in the first quartile\n",
    "        return 1\n",
    "    elif exp >= 58.41 and exp < 67.05:\n",
    "        # This observation is in the second quartile\n",
    "        return 2\n",
    "    elif exp >= 67.05 and exp < 71.70:\n",
    "        # This observation is in the third quartile\n",
    "        return 3\n",
    "    elif exp >= 71.70:\n",
    "        # This observation is in the fourth quartile\n",
    "        return 4\n",
    "    else:\n",
    "        # This observation has bad data\n",
    "        return None\n",
    "\n",
    "calculate_life_quartile(62.5)"
   ]
  },
  {
   "cell_type": "markdown",
   "metadata": {},
   "source": [
    "That function would typically be used within a `for` loop, but Pandas has\n",
    "a different, more efficient way of doing the same thing, and that is by\n",
    "*applying* a function to a dataframe or a portion of a dataframe.  Here\n",
    "is an example, using the definition above."
   ]
  },
  {
   "cell_type": "code",
   "execution_count": null,
   "metadata": {},
   "outputs": [],
   "source": [
    "data = pd.read_csv('Americas-data.csv')\n",
    "data['life_qrtl'] = data['lifeExp'].apply(calculate_life_quartile)"
   ]
  },
  {
   "cell_type": "markdown",
   "metadata": {},
   "source": [
    "There is a lot in that second line, so let's take it piece by piece.\n",
    "On the right side of the `=` we start with `data['lifeExp']`, which is the\n",
    "column in the dataframe called `data` labeled `lifExp`.  We use the\n",
    "`apply()` to do what it says, apply the `calculate_life_quartile` to the\n",
    "value of this column for every row in the dataframe."
   ]
  },
  {
   "cell_type": "markdown",
   "metadata": {},
   "source": [
    "## Key Points\n",
    "- Use `if` statements to control whether or not a block of code is executed.\n",
    "- Conditionals are often used inside loops.\n",
    "- Use `else` to execute a block of code when an `if` condition is *not* true.\n",
    "- Use `elif` to specify additional tests.\n",
    "- Conditions are tested once, in order.\n",
    "- Create a table showing variables' values to trace a program's execution."
   ]
  }
 ],
 "metadata": {
  "kernelspec": {
   "display_name": "Python 3",
   "language": "python",
   "name": "python3"
  },
  "language_info": {
   "codemirror_mode": {
    "name": "ipython",
    "version": 3
   },
   "file_extension": ".py",
   "mimetype": "text/x-python",
   "name": "python",
   "nbconvert_exporter": "python",
   "pygments_lexer": "ipython3",
   "version": "3.6.5"
  }
 },
 "nbformat": 4,
 "nbformat_minor": 2
}
