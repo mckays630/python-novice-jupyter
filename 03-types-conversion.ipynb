{
 "cells": [
  {
   "cell_type": "markdown",
   "metadata": {},
   "source": [
    "# Data Types and Type Conversion"
   ]
  },
  {
   "cell_type": "markdown",
   "metadata": {},
   "source": [
    "## Every value has a type.\n",
    "\n",
    "*   Every value in a program has a specific type.\n",
    "*   Integer (`int`): represents positive or negative whole numbers like 3 or -512.\n",
    "*   Floating point number (`float`): represents real numbers like 3.14159 or -2.5.\n",
    "*   Character string (usually called \"string\", `str`): text.\n",
    "*   Written in either single quotes or double quotes (as long as they match).\n",
    "*   The quote marks aren't printed when the string is displayed.\n",
    "\n",
    "## Use the built-in function `type` to find the type of a value.\n",
    "\n",
    "*   Use the built-in function `type` to find out what type a value has.\n",
    "*   Works on variables as well.\n",
    "*   But remember: the *value* has the type --- the *variable* is just a label."
   ]
  },
  {
   "cell_type": "code",
   "execution_count": null,
   "metadata": {},
   "outputs": [],
   "source": []
  },
  {
   "cell_type": "code",
   "execution_count": null,
   "metadata": {},
   "outputs": [],
   "source": []
  },
  {
   "cell_type": "markdown",
   "metadata": {},
   "source": [
    "## Types control what operations (or methods) can be performed on a given value.\n",
    "\n",
    "*   A value's type determines what the program can do to it."
   ]
  },
  {
   "cell_type": "code",
   "execution_count": null,
   "metadata": {},
   "outputs": [],
   "source": []
  },
  {
   "cell_type": "code",
   "execution_count": null,
   "metadata": {},
   "outputs": [],
   "source": []
  },
  {
   "cell_type": "code",
   "execution_count": null,
   "metadata": {},
   "outputs": [],
   "source": []
  },
  {
   "cell_type": "markdown",
   "metadata": {},
   "source": [
    "\n",
    "## You can use the \"+\" and \"*\" operators on strings.\n",
    "\n",
    "*   \"Adding\" character strings concatenates them."
   ]
  },
  {
   "cell_type": "code",
   "execution_count": null,
   "metadata": {},
   "outputs": [],
   "source": []
  },
  {
   "cell_type": "markdown",
   "metadata": {},
   "source": [
    "*   Multiplying a character string by an integer _N_ creates a new string that consists of that character string repeated  _N_ times.\n",
    "*   Since multiplication is repeated addition."
   ]
  },
  {
   "cell_type": "code",
   "execution_count": null,
   "metadata": {},
   "outputs": [],
   "source": []
  },
  {
   "cell_type": "markdown",
   "metadata": {},
   "source": [
    "## Strings have a length (but numbers don't).\n",
    "\n",
    "*   The built-in function `len` counts the number of characters in a string."
   ]
  },
  {
   "cell_type": "code",
   "execution_count": null,
   "metadata": {},
   "outputs": [],
   "source": []
  },
  {
   "cell_type": "markdown",
   "metadata": {},
   "source": [
    "*   But numbers don't have a length (not even zero)."
   ]
  },
  {
   "cell_type": "code",
   "execution_count": null,
   "metadata": {},
   "outputs": [],
   "source": []
  },
  {
   "cell_type": "markdown",
   "metadata": {},
   "source": [
    "## Must convert numbers to strings or vice versa when operating on them.\n",
    "\n",
    "*   Cannot add numbers and strings."
   ]
  },
  {
   "cell_type": "code",
   "execution_count": null,
   "metadata": {},
   "outputs": [],
   "source": []
  },
  {
   "cell_type": "markdown",
   "metadata": {},
   "source": [
    "*   Not allowed because it's ambiguous: should `1 + '2'` be `3` or `'12'`?\n",
    "*   Some types can be converted to other types by using the type name as a function."
   ]
  },
  {
   "cell_type": "code",
   "execution_count": null,
   "metadata": {},
   "outputs": [],
   "source": []
  },
  {
   "cell_type": "markdown",
   "metadata": {},
   "source": [
    "## Can mix integers and floats freely in operations.\n",
    "\n",
    "*   Integers and floating-point numbers can be mixed in arithmetic.\n",
    "*   Python 3 automatically converts integers to floats as needed. (Integer division in Python 2 will return an integer, the *floor* of the division.)"
   ]
  },
  {
   "cell_type": "code",
   "execution_count": null,
   "metadata": {},
   "outputs": [],
   "source": []
  },
  {
   "cell_type": "markdown",
   "metadata": {},
   "source": [
    "## Variables only change value when something is assigned to them.\n",
    "\n",
    "*   If we make one cell in a spreadsheet depend on another,\n",
    "and update the latter,\n",
    "the former updates automatically.\n",
    "*   This does **not** happen in programming languages."
   ]
  },
  {
   "cell_type": "code",
   "execution_count": null,
   "metadata": {},
   "outputs": [],
   "source": []
  },
  {
   "cell_type": "markdown",
   "metadata": {},
   "source": [
    "*   The computer reads the value of `first` when doing the multiplication,\n",
    "creates a new value, and assigns it to `second`.\n",
    "*   After that, `second` does not remember where it came from."
   ]
  },
  {
   "cell_type": "markdown",
   "metadata": {},
   "source": [
    "# Challenges"
   ]
  },
  {
   "cell_type": "markdown",
   "metadata": {},
   "source": [
    "## Fractions\n",
    "\n",
    "What type of value is 3.4?\n",
    "How can you find out?"
   ]
  },
  {
   "cell_type": "code",
   "execution_count": null,
   "metadata": {},
   "outputs": [],
   "source": []
  },
  {
   "cell_type": "markdown",
   "metadata": {},
   "source": [
    "## Automatic Type Conversion\n",
    "\n",
    "What type of value is 3.25 + 4?"
   ]
  },
  {
   "cell_type": "code",
   "execution_count": null,
   "metadata": {},
   "outputs": [],
   "source": []
  },
  {
   "cell_type": "markdown",
   "metadata": {},
   "source": [
    "## Choose a Type\n",
    "\n",
    "What type of value (integer, floating point number, or character string)\n",
    "would you use to represent each of the following?  Try to come up with more than one good answer for each problem.  For example, in  # 1, when would counting days with a floating point variable make more sense than using an integer?  \n",
    "\n",
    "1. Number of days since the start of the year.\n",
    "2. Time elapsed from the start of the year until now in days.\n",
    "3. Serial number of a piece of lab equipment.\n",
    "4. A lab specimen's age\n",
    "5. Current population of a city.\n",
    "6. Average population of a city over time."
   ]
  },
  {
   "cell_type": "code",
   "execution_count": null,
   "metadata": {},
   "outputs": [],
   "source": []
  },
  {
   "cell_type": "markdown",
   "metadata": {},
   "source": [
    "## Division Types\n",
    "\n",
    "In Python 3, the `//` operator performs integer (whole-number) floor division, the `/` operator performs floating-point\n",
    "division, and the '%' (or *modulo*) operator calculates and returns the remainder from integer division:\n",
    "\n",
    "~~~python\n",
    "print('5 // 3:', 5//3)\n",
    "print('5 / 3:', 5/3)\n",
    "print('5 % 3:', 5%3)\n",
    "~~~\n",
    "\n",
    "~~~\n",
    "5 // 3: 1\n",
    "5 / 3: 1.6666666666666667\n",
    "5 % 3: 2\n",
    "~~~\n",
    "\n",
    "However in Python2 (and other languages), the `/` operator between two integer types perform a floor (`//`) division. To perform a float division, we have to convert one of the integers to float.\n",
    "\n",
    "~~~python\n",
    "print('5 // 3:', 1)\n",
    "print('5 / 3:', 1 )\n",
    "print('5 / float(3):', 1.6666667 )\n",
    "print('float(5) / 3:', 1.6666667 )\n",
    "print('float(5 / 3):', 1.0 )\n",
    "print('5 % 3:', 2)\n",
    "~~~\n",
    "\n",
    "If `num_subjects` is the number of subjects taking part in a study,\n",
    "and `num_per_survey` is the number that can take part in a single survey,\n",
    "write an expression that calculates the number of surveys needed\n",
    "to reach everyone once.\n"
   ]
  },
  {
   "cell_type": "code",
   "execution_count": null,
   "metadata": {},
   "outputs": [],
   "source": []
  },
  {
   "cell_type": "markdown",
   "metadata": {},
   "source": [
    "## Strings to Numbers\n",
    "\n",
    "Where reasonable, `float()` will convert a string to a floating point number,\n",
    "and `int()` will convert a floating point number to an integer:\n",
    "\n",
    "~~~python\n",
    "print(\"string to float:\", float(\"3.4\"))\n",
    "print(\"float to int:\", int(3.4))\n",
    "~~~\n",
    "\n",
    "~~~\n",
    "string to float: 3.4\n",
    "float to int: 3\n",
    "~~~\n",
    "\n",
    "If the conversion doesn't make sense, however, an error message will occur\n",
    "\n",
    "~~~python\n",
    "print(\"string to float:\", float(\"Hello world!\"))\n",
    "~~~\n",
    "\n",
    "~~~\n",
    "---------------------------------------------------------------------------\n",
    "ValueError                                Traceback (most recent call last)\n",
    "<ipython-input-5-df3b790bf0a2> in <module>()\n",
    "----> 1 print(\"string to float:\", float(\"Hello world!\"))\n",
    "\n",
    "ValueError: could not convert string to float: 'Hello world!'\n",
    "~~~\n",
    "\n",
    "Given this information, what do you expect the following program to do?\n",
    "\n",
    "What does it actually do?\n",
    "\n",
    "Why do you think it does that?\n",
    "\n",
    "~~~python\n",
    "print(\"fractional string to int:\", int(\"3.4\"))\n",
    "~~~ "
   ]
  },
  {
   "cell_type": "code",
   "execution_count": null,
   "metadata": {},
   "outputs": [],
   "source": []
  },
  {
   "cell_type": "markdown",
   "metadata": {},
   "source": [
    "## Arithmetic with Different Types\n",
    "\n",
    "Which of the following will print 2.0?\n",
    "Note: there may be more than one right answer.\n",
    "\n",
    "~~~python\n",
    "first = 1.0\n",
    "second = \"1\"\n",
    "third = \"1.1\"\n",
    "~~~\n",
    "\n",
    "\n",
    "1. `first + float(second)`\n",
    "2. `float(second) + float(third)`\n",
    "3. `first + int(third)`\n",
    "4. `first + int(float(third))`\n",
    "5. `int(first) + int(float(third))`\n",
    "6. `2.0 * second`\n"
   ]
  },
  {
   "cell_type": "code",
   "execution_count": null,
   "metadata": {},
   "outputs": [],
   "source": []
  },
  {
   "cell_type": "markdown",
   "metadata": {},
   "source": [
    "## Key Points\n",
    "- Every value has a type.\n",
    "- Use the built-in function `type` to find the type of a value.\n",
    "- Types control what operations can be done on values.\n",
    "- Strings can be added and multiplied.\n",
    "- Strings have a length (but numbers don't).\n",
    "- Must convert numbers to strings or vice versa when operating on them.\n",
    "- Can mix integers and floats freely in operations.\n",
    "- Variables only change value when something is assigned to them."
   ]
  }
 ],
 "metadata": {
  "kernelspec": {
   "display_name": "Python 3",
   "language": "python",
   "name": "python3"
  },
  "language_info": {
   "codemirror_mode": {
    "name": "ipython",
    "version": 3
   },
   "file_extension": ".py",
   "mimetype": "text/x-python",
   "name": "python",
   "nbconvert_exporter": "python",
   "pygments_lexer": "ipython3",
   "version": "3.6.5"
  }
 },
 "nbformat": 4,
 "nbformat_minor": 2
}
