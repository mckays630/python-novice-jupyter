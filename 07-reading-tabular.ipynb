{
 "cells": [
  {
   "cell_type": "markdown",
   "metadata": {},
   "source": [
    "# Reading Tabular Data into DataFrames"
   ]
  },
  {
   "cell_type": "markdown",
   "metadata": {},
   "source": [
    "## Use the Pandas library to do statistics on tabular data.\n",
    "\n",
    "*   Pandas is a widely-used Python library for statistics, particularly on tabular data.\n",
    "*   It borrows many features from R's dataframes.\n",
    "*   A 2-dimenstional table whose columns have names and potentially have different data types.\n",
    "*   Load it with `import pandas`.\n",
    "*   Read a Comma Separate Values (CSV) data file with `pandas.read_csv`.\n",
    "*   Argument is the name of the file to be read.\n",
    "*   Assign result to a variable to store the data that was read."
   ]
  },
  {
   "cell_type": "code",
   "execution_count": null,
   "metadata": {},
   "outputs": [],
   "source": []
  },
  {
   "cell_type": "markdown",
   "metadata": {},
   "source": [
    "*   The columns in a dataframe are the observed variables, and the rows are the observations.\n",
    "*   Pandas uses backslash `\\` to show wrapped lines when output is too wide to fit the screen.\n",
    "\n",
    "## File Not Found\n",
    "\n",
    "Our lessons store their data files in a `data` sub-directory,\n",
    "which is why the path to the file is `data/gapminder_gdp_oceania.csv`.\n",
    "If you forget to include `data/`,\n",
    "or if you include it but your copy of the file is somewhere else,\n",
    "you will get a [runtime error]({{ page.root }}/05-error-messages/)\n",
    "that ends with a line like this:\n",
    "\n",
    "~~~\n",
    "OSError: File b'gapminder_gdp_oceania.csv' does not exist\n",
    "~~~\n",
    "\n",
    "\n",
    "## Use `index_col` to specify that a column's values should be used as row headings.\n",
    "\n",
    "*   Row headings are numbers (0 and 1 in this case).\n",
    "*   Really want to index by country.\n",
    "*   Pass the name of the column to `read_csv` as its `index_col` parameter to do this."
   ]
  },
  {
   "cell_type": "code",
   "execution_count": null,
   "metadata": {},
   "outputs": [],
   "source": []
  },
  {
   "cell_type": "markdown",
   "metadata": {},
   "source": [
    "## Use `DataFrame.info` to find out more about a dataframe."
   ]
  },
  {
   "cell_type": "code",
   "execution_count": null,
   "metadata": {},
   "outputs": [],
   "source": []
  },
  {
   "cell_type": "markdown",
   "metadata": {},
   "source": [
    "*   This is a `DataFrame`\n",
    "*   Two rows named `'Australia'` and `'New Zealand'`\n",
    "*   Twelve columns, each of which has two actual 64-bit floating point values.\n",
    "*   We will talk later about null values, which are used to represent missing observations.\n",
    "*   Uses 208 bytes of memory.\n",
    "\n",
    "## The `DataFrame.columns` variable stores information about the dataframe's columns.\n",
    "\n",
    "*   Note that this is data, *not* a method.\n",
    "*   Like `math.pi`.\n",
    "*   So do not use `()` to try to call it.\n",
    "*   Called a *member variable*, or just *member*."
   ]
  },
  {
   "cell_type": "code",
   "execution_count": null,
   "metadata": {},
   "outputs": [],
   "source": []
  },
  {
   "cell_type": "markdown",
   "metadata": {},
   "source": [
    "## Use `DataFrame.T` to transpose a dataframe.\n",
    "\n",
    "*   Sometimes want to treat columns as rows and vice versa.\n",
    "*   Transpose (written `.T`) doesn't copy the data, just changes the program's view of it.\n",
    "*   Like `columns`, it is a member variable."
   ]
  },
  {
   "cell_type": "code",
   "execution_count": null,
   "metadata": {},
   "outputs": [],
   "source": []
  },
  {
   "cell_type": "markdown",
   "metadata": {},
   "source": [
    "## Use `DataFrame.describe` to get summary statistics about data.\n",
    "\n",
    "DataFrame.describe() gets the summary statistics of only the columns that have numerical data. \n",
    "All other columns are ignored, unless you use the argument `include='all'`."
   ]
  },
  {
   "cell_type": "code",
   "execution_count": null,
   "metadata": {},
   "outputs": [],
   "source": []
  },
  {
   "cell_type": "markdown",
   "metadata": {},
   "source": [
    "*   Not particularly useful with just two records,\n",
    "but very helpful when there are thousands."
   ]
  },
  {
   "cell_type": "markdown",
   "metadata": {},
   "source": [
    "# Challenges"
   ]
  },
  {
   "cell_type": "markdown",
   "metadata": {},
   "source": [
    "## Reading Other Data\n",
    "\n",
    "Read the data in `gapminder_gdp_americas.csv`\n",
    "(which should be in the same directory as `gapminder_gdp_oceania.csv`)\n",
    "into a variable called `americas`\n",
    "and display its summary statistics."
   ]
  },
  {
   "cell_type": "code",
   "execution_count": null,
   "metadata": {},
   "outputs": [],
   "source": []
  },
  {
   "cell_type": "markdown",
   "metadata": {},
   "source": [
    "## Inspecting Data.\n",
    "\n",
    "After reading the data for the Americas,\n",
    "use `help(americas.head)` and `help(americas.tail)`\n",
    "to find out what `DataFrame.head` and `DataFrame.tail` do.\n",
    "\n",
    "1.  What method call will display the first three rows of this data?\n",
    "2.  What method call will display the last three columns of this data?\n",
    "(Hint: you may need to change your view of the data.)"
   ]
  },
  {
   "cell_type": "code",
   "execution_count": null,
   "metadata": {},
   "outputs": [],
   "source": []
  },
  {
   "cell_type": "markdown",
   "metadata": {},
   "source": [
    "## Reading Files in Other Directories\n",
    "\n",
    "The data for your current project is stored in a file called `microbes.csv`,\n",
    "which is located in a folder called `field_data`.\n",
    "You are doing analysis in a notebook called `analysis.ipynb`\n",
    "in a sibling folder called `thesis`:\n",
    "\n",
    "~~~\n",
    "your_home_directory\n",
    "+-- field_data/\n",
    "|   +-- microbes.csv\n",
    "+-- thesis/\n",
    "    +-- analysis.ipynb\n",
    "~~~\n",
    "\n",
    "\n",
    "What value(s) should you pass to `read_csv` to read `microbes.csv` in `analysis.ipynb`?"
   ]
  },
  {
   "cell_type": "code",
   "execution_count": null,
   "metadata": {},
   "outputs": [],
   "source": []
  },
  {
   "cell_type": "markdown",
   "metadata": {},
   "source": [
    "## Writing Data\n",
    "\n",
    "As well as the `read_csv` function for reading data from a file,\n",
    "Pandas provides a `to_csv` function to write dataframes to files.\n",
    "Applying what you've learned about reading from files,\n",
    "write one of your dataframes to a file called `processed.csv`.\n",
    "You can use `help` to get information on how to use `to_csv`.\n"
   ]
  },
  {
   "cell_type": "code",
   "execution_count": null,
   "metadata": {},
   "outputs": [],
   "source": []
  },
  {
   "cell_type": "markdown",
   "metadata": {},
   "source": [
    "## Key Points\n",
    "- Use the Pandas library to get basic statistics out of tabular data.\n",
    "- Use `index_col` to specify that a column's values should be used as row headings.\n",
    "- Use `DataFrame.info` to find out more about a dataframe.\n",
    "- The `DataFrame.columns` variable stores information about the dataframe's columns.\n",
    "- Use `DataFrame.T` to transpose a dataframe.\n",
    "- Use `DataFrame.describe` to get summary statistics about data."
   ]
  }
 ],
 "metadata": {
  "kernelspec": {
   "display_name": "Python 3",
   "language": "python",
   "name": "python3"
  },
  "language_info": {
   "codemirror_mode": {
    "name": "ipython",
    "version": 3
   },
   "file_extension": ".py",
   "mimetype": "text/x-python",
   "name": "python",
   "nbconvert_exporter": "python",
   "pygments_lexer": "ipython3",
   "version": "3.6.5"
  }
 },
 "nbformat": 4,
 "nbformat_minor": 2
}
