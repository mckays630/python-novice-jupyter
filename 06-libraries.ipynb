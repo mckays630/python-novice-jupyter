{
 "cells": [
  {
   "cell_type": "markdown",
   "metadata": {},
   "source": [
    "# Libraries"
   ]
  },
  {
   "cell_type": "markdown",
   "metadata": {},
   "source": [
    "## Most of the power of a programming language is in its libraries.\n",
    "\n",
    "*   A *library* is a collection of files (called *modules*) that contains\n",
    "functions for use by other programs.\n",
    "*   May also contain data values (e.g., numerical constants) and other things.\n",
    "*   Library's contents are supposed to be related, but there's no way to enforce that.\n",
    "*   The Python [standard library][stdlib] is an extensive suite of modules that comes\n",
    "with Python itself.\n",
    "*   Many additional libraries are available from [PyPI][pypi] (the Python Package Index).\n",
    "*   We will see later how to write new libraries.\n",
    "\n",
    "## Libraries and modules\n",
    "\n",
    "A library is a collection of modules, but the terms are often used\n",
    "interchangeably, especially since many libraries only consist of a single\n",
    "module, so don't worry if you mix them.\n",
    "\n",
    "\n",
    "\n",
    "## A program must import a library module before using it.\n",
    "\n",
    "*   Use `import` to load a library module into a program's memory.\n",
    "*   Then refer to things from the module as `module_name.thing_name`.\n",
    "*   Python uses `.` to mean \"part of\".\n",
    "*   Using `math`, one of the modules in the standard library:"
   ]
  },
  {
   "cell_type": "code",
   "execution_count": null,
   "metadata": {},
   "outputs": [],
   "source": []
  },
  {
   "cell_type": "markdown",
   "metadata": {},
   "source": [
    "*   Have to refer to each item with the module's name.\n",
    "*   `math.cos(pi)` won't work: the reference to `pi`\n",
    "doesn't somehow \"inherit\" the function's reference to `math`.\n",
    "\n",
    "## Use `help` to learn about the contents of a library module.\n",
    "\n",
    "*   Works just like help for a function."
   ]
  },
  {
   "cell_type": "code",
   "execution_count": null,
   "metadata": {},
   "outputs": [],
   "source": []
  },
  {
   "cell_type": "markdown",
   "metadata": {},
   "source": [
    "## Import specific items from a library module to shorten programs.\n",
    "\n",
    "*   Use `from ... import ...` to load only specific items from a library module.\n",
    "*   Then refer to them directly without library name as prefix."
   ]
  },
  {
   "cell_type": "code",
   "execution_count": null,
   "metadata": {},
   "outputs": [],
   "source": []
  },
  {
   "cell_type": "markdown",
   "metadata": {},
   "source": [
    "## Create an alias for a library module when importing it to shorten programs.\n",
    "\n",
    "*   Use `import ... as ...` to give a library a short *alias* while importing it.\n",
    "*   Then refer to items in the library using that shortened name."
   ]
  },
  {
   "cell_type": "code",
   "execution_count": null,
   "metadata": {},
   "outputs": [],
   "source": []
  },
  {
   "cell_type": "markdown",
   "metadata": {},
   "source": [
    "*   Commonly used for libraries that are frequently used or have long names.\n",
    "*   E.g., `matplotlib` plotting library is often aliased as `mpl`.\n",
    "*   But can make programs harder to understand,\n",
    "since readers must learn your program's aliases."
   ]
  },
  {
   "cell_type": "markdown",
   "metadata": {},
   "source": [
    "# Challenges"
   ]
  },
  {
   "cell_type": "markdown",
   "metadata": {},
   "source": [
    "## Exploring the Math Module\n",
    "\n",
    "1. What function from the `math` module can you use to calculate a square root?"
   ]
  },
  {
   "cell_type": "code",
   "execution_count": null,
   "metadata": {},
   "outputs": [],
   "source": []
  },
  {
   "cell_type": "markdown",
   "metadata": {},
   "source": [
    "## Locating the Right Module\n",
    "\n",
    "You want to select a random character from a string:\n",
    "\n",
    "~~~python\n",
    "bases = 'ACTTGCTTGAC'\n",
    "~~~\n",
    "1. Which module could help you?\n",
    "2. Which function would you select from that module? Are there alternatives?\n",
    "3. Try to write a program that uses the function."
   ]
  },
  {
   "cell_type": "code",
   "execution_count": null,
   "metadata": {},
   "outputs": [],
   "source": []
  },
  {
   "cell_type": "markdown",
   "metadata": {},
   "source": [
    "## Jigsaw Puzzle (Parson's Problem) Programming Example\n",
    "\n",
    "Rearrange the following statements so that a random\n",
    "DNA base is printed and its index in the string.  Not all statements may be needed.  Feel free to use/add\n",
    "intermediate variables.\n",
    "\n",
    "~~~python\n",
    "bases=\"ACTTGCTTGAC\"\n",
    "import math\n",
    "import random\n",
    "___ = random.randrange(n_bases)\n",
    "___ = len(bases)\n",
    "print(\"random base \", bases[___], \"base index\", ___)\n",
    "~~~"
   ]
  },
  {
   "cell_type": "code",
   "execution_count": null,
   "metadata": {},
   "outputs": [],
   "source": []
  },
  {
   "cell_type": "markdown",
   "metadata": {},
   "source": [
    "## When Is Help Available?\n",
    "\n",
    "When a colleague of yours types `help(math)`,\n",
    "Python reports an error:\n",
    "\n",
    "~~~\n",
    "NameError: name 'math' is not defined\n",
    "~~~\n",
    "\n",
    "\n",
    "What has your colleague forgotten to do?"
   ]
  },
  {
   "cell_type": "code",
   "execution_count": null,
   "metadata": {},
   "outputs": [],
   "source": []
  },
  {
   "cell_type": "markdown",
   "metadata": {},
   "source": [
    "## Importing With Aliases\n",
    "\n",
    "1. Fill in the blanks so that the program below prints `90.0`.\n",
    "2. Rewrite the program so that it uses `import` *without* `as`.\n",
    "3. Which form do you find easier to read?\n",
    "\n",
    "~~~python\n",
    "import math as m\n",
    "angle = ____.degrees(____.pi / 2)\n",
    "print(____)\n",
    "~~~"
   ]
  },
  {
   "cell_type": "code",
   "execution_count": null,
   "metadata": {},
   "outputs": [],
   "source": []
  },
  {
   "cell_type": "markdown",
   "metadata": {},
   "source": [
    "## There Are Many Ways To Import Libraries!\n",
    "\n",
    "Match the following print statements with the appropriate library calls.\n",
    "\n",
    "Print commands:\n",
    "\n",
    "1. `print(\"sin(pi/2) =\",sin(pi/2))`\n",
    "2. `print(\"sin(pi/2) =\",m.sin(m.pi/2))`\n",
    "3. `print(\"sin(pi/2) =\",math.sin(math.pi/2))`\n",
    "\n",
    "Library calls:\n",
    "\n",
    "1. `from math import sin,pi`\n",
    "2. `import math`\n",
    "3. `import math as m`\n",
    "4. `from math import *`"
   ]
  },
  {
   "cell_type": "code",
   "execution_count": null,
   "metadata": {},
   "outputs": [],
   "source": []
  },
  {
   "cell_type": "markdown",
   "metadata": {},
   "source": [
    "## Importing Specific Items\n",
    "\n",
    "1. Fill in the blanks so that the program below prints `90.0`.\n",
    "2. Do you find this version easier to read than preceding ones?\n",
    "3. Why *wouldn't* programmers always use this form of `import`?\n",
    "\n",
    "~~~python\n",
    "____ math import ____, ____\n",
    "angle = degrees(pi / 2)\n",
    "print(angle)\n",
    "~~~\n"
   ]
  },
  {
   "cell_type": "code",
   "execution_count": null,
   "metadata": {},
   "outputs": [],
   "source": []
  },
  {
   "cell_type": "markdown",
   "metadata": {},
   "source": [
    "## Reading Error Messages\n",
    "\n",
    "1. Read the code below and try to identify what the errors are without running it.\n",
    "2. Run the code, and read the error message. What type of error is it?\n",
    "\n",
    "~~~python\n",
    "from math import log\n",
    "log(0)\n",
    "~~~\n"
   ]
  },
  {
   "cell_type": "code",
   "execution_count": null,
   "metadata": {},
   "outputs": [],
   "source": []
  },
  {
   "cell_type": "markdown",
   "metadata": {},
   "source": [
    "## Key Points\n",
    "- Most of the power of a programming language is in its libraries.\n",
    "- A program must import a library module in order to use it.\n",
    "- Use `help` to learn about the contents of a library module.\n",
    "- Import specific items from a library to shorten programs.\n",
    "- Create an alias for a library when importing it to shorten programs."
   ]
  }
 ],
 "metadata": {
  "kernelspec": {
   "display_name": "Python 3",
   "language": "python",
   "name": "python3"
  },
  "language_info": {
   "codemirror_mode": {
    "name": "ipython",
    "version": 3
   },
   "file_extension": ".py",
   "mimetype": "text/x-python",
   "name": "python",
   "nbconvert_exporter": "python",
   "pygments_lexer": "ipython3",
   "version": "3.6.5"
  }
 },
 "nbformat": 4,
 "nbformat_minor": 2
}
