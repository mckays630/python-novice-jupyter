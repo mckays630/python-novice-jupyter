{
 "cells": [
  {
   "cell_type": "markdown",
   "metadata": {},
   "source": [
    "# Pandas DataFrames"
   ]
  },
  {
   "cell_type": "markdown",
   "metadata": {},
   "source": [
    "## Note about Pandas DataFrames/Series\n",
    "\n",
    "A DataFrame is a collection of Series;\n",
    "The DataFrame is the way Pandas represents a table, and Series is the data-structure\n",
    "Pandas use to represent a column.\n",
    "\n",
    "Pandas is built on top of the Numpy library, which in practice means that\n",
    "most of the methods defined for Numpy Arrays apply to Pandas Series/DataFrames.\n",
    "\n",
    "What makes Pandas so attractive is the powerful interface to access individual records\n",
    "of the table, proper handling of missing values, and relational-databases operations\n",
    "between DataFrames.\n",
    "\n",
    "## Selecting values\n",
    "\n",
    "To access a value at the position `[i,j]` of a DataFrame, we have two options, depending on\n",
    "what is the meaning of `i` in use.\n",
    "Remember that a DataFrame provides a *index* as a way to identify the rows of the table;\n",
    "a row, then, has a *position* inside the table as well as a *label*, which\n",
    "uniquely identifies its *entry* in the DataFrame.\n",
    "\n",
    "## Use `DataFrame.iloc[..., ...]` to select values by their (entry) position\n",
    "\n",
    "*   Can specify location by numerical index analogously to 2D version of character selection in strings."
   ]
  },
  {
   "cell_type": "code",
   "execution_count": null,
   "metadata": {},
   "outputs": [],
   "source": []
  },
  {
   "cell_type": "markdown",
   "metadata": {},
   "source": [
    "\n",
    "\n",
    "## Use `DataFrame.loc[..., ...]` to select values by their (entry) label.\n",
    "\n",
    "*   Can specify location by row name analogously to 2D version of dictionary keys."
   ]
  },
  {
   "cell_type": "code",
   "execution_count": null,
   "metadata": {},
   "outputs": [],
   "source": []
  },
  {
   "cell_type": "markdown",
   "metadata": {},
   "source": [
    "\n",
    "## Use `:` on its own to mean all columns or all rows.\n",
    "\n",
    "*   Just like Python's usual slicing notation."
   ]
  },
  {
   "cell_type": "code",
   "execution_count": null,
   "metadata": {},
   "outputs": [],
   "source": []
  },
  {
   "cell_type": "markdown",
   "metadata": {},
   "source": [
    "\n",
    "\n",
    "*   Would get the same result printing `data.loc[\"Albania\"]` (without a second index)."
   ]
  },
  {
   "cell_type": "code",
   "execution_count": null,
   "metadata": {},
   "outputs": [],
   "source": []
  },
  {
   "cell_type": "markdown",
   "metadata": {},
   "source": [
    "\n",
    "\n",
    "*   Would get the same result printing `data[\"gdpPercap_1952\"]`\n",
    "*   Also get the same result printing `data.gdpPercap_1952` (since it's a column name)\n",
    "\n",
    "## Select multiple columns or rows using `DataFrame.loc` and a named slice."
   ]
  },
  {
   "cell_type": "code",
   "execution_count": null,
   "metadata": {},
   "outputs": [],
   "source": []
  },
  {
   "cell_type": "markdown",
   "metadata": {},
   "source": [
    "\n",
    "\n",
    "In the above code, we discover that **slicing using `loc` is inclusive at both\n",
    "ends**, which differs from **slicing using `iloc`**, where slicing indicates\n",
    "everything up to but not including the final index. \n",
    "\n",
    "\n",
    "## Result of slicing can be used in further operations.\n",
    "\n",
    "*   Usually don't just print a slice.\n",
    "*   All the statistical operators that work on entire dataframes\n",
    "work the same way on slices.\n",
    "*   E.g., calculate max of a slice."
   ]
  },
  {
   "cell_type": "code",
   "execution_count": null,
   "metadata": {},
   "outputs": [],
   "source": []
  },
  {
   "cell_type": "code",
   "execution_count": null,
   "metadata": {},
   "outputs": [],
   "source": []
  },
  {
   "cell_type": "markdown",
   "metadata": {},
   "source": [
    "\n",
    "\n",
    "## Use comparisons to select data based on value.\n",
    "\n",
    "*   Comparison is applied element by element.\n",
    "*   Returns a similarly-shaped dataframe of `True` and `False`."
   ]
  },
  {
   "cell_type": "code",
   "execution_count": null,
   "metadata": {},
   "outputs": [],
   "source": []
  },
  {
   "cell_type": "markdown",
   "metadata": {},
   "source": [
    "\n",
    "\n",
    "## Select values or NaN using a Boolean mask.\n",
    "\n",
    "*   A frame full of Booleans is sometimes called a *mask* because of how it can be used."
   ]
  },
  {
   "cell_type": "code",
   "execution_count": null,
   "metadata": {},
   "outputs": [],
   "source": []
  },
  {
   "cell_type": "markdown",
   "metadata": {},
   "source": [
    "\n",
    "\n",
    "*   Get the value where the mask is true, and NaN (Not a Number) where it is false.\n",
    "*   Useful because NaNs are ignored by operations like max, min, average, etc."
   ]
  },
  {
   "cell_type": "code",
   "execution_count": null,
   "metadata": {},
   "outputs": [],
   "source": []
  },
  {
   "cell_type": "markdown",
   "metadata": {},
   "source": [
    "\n",
    "\n",
    "## Select-Apply-Combine operations\n",
    "\n",
    "Pandas vectorizing methods and grouping operations are features that provide users \n",
    "much flexibility to analyse their data.\n",
    "\n",
    "For instance, let's say we want to have a clearer view on how the European countries \n",
    "split themselves according to their GDP.\n",
    "\n",
    "1.  We may have a glance by splitting the countries in two groups during the years surveyed,\n",
    "those who presented a GDP *higher* than the European average and those with a *lower* GDP.\n",
    "2.  We then estimate a *wealthy score* based on the historical (from 1962 to 2007) values,\n",
    "where we account how many times a country has participated in the groups of *lower* or *higher* GDP"
   ]
  },
  {
   "cell_type": "code",
   "execution_count": null,
   "metadata": {},
   "outputs": [],
   "source": []
  },
  {
   "cell_type": "markdown",
   "metadata": {},
   "source": [
    "\n",
    "\n",
    "Finally, for each group in the `wealth_score` table, we sum their (financial) contribution\n",
    "across the years surveyed:"
   ]
  },
  {
   "cell_type": "code",
   "execution_count": null,
   "metadata": {},
   "outputs": [],
   "source": []
  },
  {
   "cell_type": "markdown",
   "metadata": {},
   "source": [
    "# Challenges"
   ]
  },
  {
   "cell_type": "markdown",
   "metadata": {},
   "source": [
    "## Selection of Individual Values\n",
    "\n",
    "Assume Pandas has been imported into your notebook\n",
    "and the Gapminder GDP data for Europe has been loaded:\n",
    "\n",
    "~~~python\n",
    "import pandas\n",
    "\n",
    "df = pandas.read_csv('data/gapminder_gdp_europe.csv', index_col='country')\n",
    "~~~\n",
    "\n",
    "\n",
    "Write an expression to find the Per Capita GDP of Serbia in 2007."
   ]
  },
  {
   "cell_type": "code",
   "execution_count": null,
   "metadata": {},
   "outputs": [],
   "source": []
  },
  {
   "cell_type": "markdown",
   "metadata": {},
   "source": [
    "## Extent of Slicing\n",
    "\n",
    "1.  Do the two statements below produce the same output?\n",
    "2.  Based on this,\n",
    "what rule governs what is included (or not) in numerical slices and named slices in Pandas?\n",
    "\n",
    "~~~python\n",
    "print(data.iloc[0:2, 0:2])\n",
    "print(data.loc['Albania':'Belgium', 'gdpPercap_1952':'gdpPercap_1962'])\n",
    "~~~\n",
    "\n"
   ]
  },
  {
   "cell_type": "code",
   "execution_count": null,
   "metadata": {},
   "outputs": [],
   "source": []
  },
  {
   "cell_type": "markdown",
   "metadata": {},
   "source": [
    "## Reconstructing Data\n",
    "\n",
    "Explain what each line in the following short program does:\n",
    "what is in `first`, `second`, etc.?\n",
    "\n",
    "~~~python\n",
    "first = pandas.read_csv('data/gapminder_all.csv', index_col='country')\n",
    "second = first[first['continent'] == 'Americas']\n",
    "third = second.drop('Puerto Rico')\n",
    "fourth = third.drop('continent', axis = 1)\n",
    "fourth.to_csv('result.csv')\n",
    "~~~\n"
   ]
  },
  {
   "cell_type": "code",
   "execution_count": null,
   "metadata": {},
   "outputs": [],
   "source": []
  },
  {
   "cell_type": "markdown",
   "metadata": {},
   "source": [
    "## Selecting Indices\n",
    "\n",
    "Explain in simple terms what `idxmin` and `idxmax` do in the short program below.\n",
    "When would you use these methods?\n",
    "\n",
    "~~~python\n",
    "data = pandas.read_csv('data/gapminder_gdp_europe.csv', index_col='country')\n",
    "print(data.idxmin())\n",
    "print(data.idxmax())\n",
    "~~~\n"
   ]
  },
  {
   "cell_type": "code",
   "execution_count": null,
   "metadata": {},
   "outputs": [],
   "source": []
  },
  {
   "cell_type": "markdown",
   "metadata": {},
   "source": [
    "## Practice with Selection\n",
    "\n",
    "Assume Pandas has been imported and the Gapminder GDP data for Europe has been loaded.\n",
    "Write an expression to select each of the following:\n",
    "\n",
    "1.  GDP per capita for all countries in 1982.\n",
    "2.  GDP per capita for Denmark for all years.\n",
    "3.  GDP per capita for all countries for years *after* 1985.\n",
    "4.  GDP per capita for each country in 2007 as a multiple of \n",
    "GDP per capita for that country in 1952.\n"
   ]
  },
  {
   "cell_type": "code",
   "execution_count": null,
   "metadata": {},
   "outputs": [],
   "source": []
  },
  {
   "cell_type": "markdown",
   "metadata": {},
   "source": [
    "## Using the dir function to see available methods\n",
    "\n",
    "Python includes a `dir` function that can be used to display all of the available methods (functions) that are built into a data object.  As an example, the  functions available for a [list data type](https://docs.python.org/3/tutorial/datastructures.html#more-on-lists) are:\n",
    "~~~python\n",
    "potatoes = [\"Russet\", \"Norkota\", \"Yukon Gold\", \"Pontiac\"]\n",
    "dir(potatoes)\n",
    "~~~\n",
    "\n",
    "\n",
    "This command returns:\n",
    "~~~\n",
    "['__add__',\n",
    "...\n",
    "'__subclasshook__',\n",
    "'append',\n",
    "'clear',\n",
    "'copy',\n",
    "'count',\n",
    "'extend',\n",
    "'index',\n",
    "'insert',\n",
    "'pop',\n",
    "'remove',\n",
    "'reverse',\n",
    "'sort']\n",
    "~~~\n",
    "\n",
    "\n",
    "The double underscore functions can be ignored for now; functions that are not surrounded by double underscores are the *public interface* of the [list type](https://docs.python.org/3/tutorial/datastructures.html#more-on-lists). So, if you want to sort the list of potatoes, according to `dir` you should try,\n",
    "~~~\n",
    "potatoes.sort()\n",
    "~~~\n",
    "\n",
    "\n",
    "Assume Pandas has been imported and the Gapminder GDP data for Europe has been loaded as `data`.  Then, use `dir` to find the function that prints out the median per-capita GDP across all European countries for each year that information is available.  "
   ]
  },
  {
   "cell_type": "code",
   "execution_count": null,
   "metadata": {},
   "outputs": [],
   "source": []
  },
  {
   "cell_type": "markdown",
   "metadata": {},
   "source": [
    "## Interpretation\n",
    "\n",
    "Poland's borders have been stable since 1945,\n",
    "but changed several times in the years before then.\n",
    "How would you handle this if you were creating a table of GDP per capita for Poland\n",
    "for the entire twentieth century?\n"
   ]
  },
  {
   "cell_type": "code",
   "execution_count": null,
   "metadata": {},
   "outputs": [],
   "source": []
  },
  {
   "cell_type": "markdown",
   "metadata": {},
   "source": [
    "## Key Points\n",
    "- Use `DataFrame.iloc[..., ...]` to select values by integer location.\n",
    "- Use `:` on its own to mean all columns or all rows.\n",
    "- Select multiple columns or rows using `DataFrame.loc` and a named slice.\n",
    "- Result of slicing can be used in further operations.\n",
    "- Use comparisons to select data based on value.\n",
    "- Select values or NaN using a Boolean mask."
   ]
  }
 ],
 "metadata": {
  "kernelspec": {
   "display_name": "Python 3",
   "language": "python",
   "name": "python3"
  },
  "language_info": {
   "codemirror_mode": {
    "name": "ipython",
    "version": 3
   },
   "file_extension": ".py",
   "mimetype": "text/x-python",
   "name": "python",
   "nbconvert_exporter": "python",
   "pygments_lexer": "ipython3",
   "version": "3.6.5"
  }
 },
 "nbformat": 4,
 "nbformat_minor": 2
}
