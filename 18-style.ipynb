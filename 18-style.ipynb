{
 "cells": [
  {
   "cell_type": "markdown",
   "metadata": {},
   "source": [
    "# Programming Style"
   ]
  },
  {
   "cell_type": "markdown",
   "metadata": {},
   "source": [
    "## Coding style\n",
    "\n",
    "Coding style helps us to understand the code better. It helps to maintain and change the code.\n",
    "Python relies strongly on coding style, as we may notice by the indentation we apply to lines to define different blocks of code.\n",
    "Python proposes a standard style through one of its first Python Enhancement Proposals (PEP), [PEP8](https://www.python.org/dev/peps/pep-0008), and highlight the importance of readability in the [Zen of Python](https://www.python.org/dev/peps/pep-0020).\n",
    "\n",
    "We may highlight some points:\n",
    "*   document your code\n",
    "*   use clear, meaningful variable names\n",
    "*   use white-space, *not* tabs, to indent lines\n",
    "\n",
    "\n",
    "## Follow standard Python style in your code.\n",
    "\n",
    "*   [PEP8](https://www.python.org/dev/peps/pep-0008):\n",
    "a style guide for Python that discusses topics such as how you should name variables,\n",
    "how you should use indentation in your code,\n",
    "how you should structure your `import` statements,\n",
    "etc.\n",
    "Adhering to PEP8 makes it easier for other Python developers to read and understand your code,\n",
    "and to understand what their contributions should look like.\n",
    "The [PEP8 application and Python library](https://pypi.python.org/pypi/pep8)\n",
    "can check your code for compliance with PEP8.\n",
    "*   [Google style guide on Python](https://google.github.io/styleguide/pyguide.html) \n",
    "supports the use of PEP8 and extend the coding style to more specific structure of \n",
    "a Python code, which may be interesting also to follow.\n",
    "\n",
    "## Use assertions to check for internal errors.\n",
    "\n",
    "Assertions are a simple, but powerful method for making sure that the context in which your code is executing is as you expect."
   ]
  },
  {
   "cell_type": "code",
   "execution_count": null,
   "metadata": {},
   "outputs": [],
   "source": []
  },
  {
   "cell_type": "markdown",
   "metadata": {},
   "source": [
    "\n",
    "\n",
    "If the assertion is `False`, the Python interpreter raises an `AssertionError` runtime exception. The source code for the expression that failed will be displayed as part of the error message. To ignore assertions in your code run the interpreter with the '-O' (optimize) switch. Assertions should contain only simple checks and never change the state of the program. For example, an assertion should never contain an assignment.\n",
    "\n",
    "## Use docstrings to provide online help.\n",
    "\n",
    "*   If the first thing in a function is a character string\n",
    "that is not assigned to a variable,\n",
    "Python attaches it to the function as the online help.\n",
    "*   Called a *docstring* (short for \"documentation string\")."
   ]
  },
  {
   "cell_type": "code",
   "execution_count": null,
   "metadata": {},
   "outputs": [],
   "source": []
  },
  {
   "cell_type": "markdown",
   "metadata": {},
   "source": [
    "## Multiline Strings\n",
    "\n",
    "Often use *multiline strings* for documentation.\n",
    "These start and end with three quote characters (either single or double)\n",
    "and end with three matching characters.\n",
    "\n",
    "~~~python\n",
    "\"\"\"This string spans\n",
    "multiple lines.\n",
    "\n",
    "Blank lines are allowed.\"\"\"\n",
    "~~~\n",
    "\n",
    "\n",
    "\n",
    "## What Will Be Shown?\n",
    "\n",
    "Highlight the lines in the code below that will be available as online help.\n",
    "Are there lines that should be made available, but won't be?\n",
    "Will any lines produce a syntax error or a runtime error?\n",
    "\n",
    "~~~python\n",
    "\"Find maximum edit distance between multiple sequences.\"\n",
    "# This finds the maximum distance between all sequences.\n",
    "\n",
    "def overall_max(sequences):\n",
    "    '''Determine overall maximum edit distance.'''\n",
    "\n",
    "    highest = 0\n",
    "    for left in sequences:\n",
    "    for right in sequences:\n",
    "    '''Avoid checking sequence against itself.'''\n",
    "    if left != right:\n",
    "    this = edit_distance(left, right)\n",
    "    highest = max(highest, this)\n",
    "\n",
    "    # Report.\n",
    "    return highest\n",
    "~~~\n",
    "\n",
    "\n",
    "\n",
    "## Document This\n",
    "\n",
    "Turn the comment on the following function into a docstring\n",
    "and check that `help` displays it properly.\n",
    "\n",
    "~~~python\n",
    "def middle(a, b, c):\n",
    "    # Return the middle value of three.\n",
    "    # Assumes the values can actually be compared.\n",
    "    values = [a, b, c]\n",
    "    values.sort()\n",
    "    return values[1]\n",
    "~~~"
   ]
  },
  {
   "cell_type": "code",
   "execution_count": null,
   "metadata": {},
   "outputs": [],
   "source": []
  },
  {
   "cell_type": "markdown",
   "metadata": {},
   "source": [
    "## Clean Up This Code\n",
    "\n",
    "1. Read this short program and try to predict what it does.\n",
    "2. Run it: how accurate was your prediction?\n",
    "3. Refactor the program to make it more readable.\n",
    "Remember to run it after each change to ensure its behavior hasn't changed.\n",
    "4. Compare your rewrite with your neighbor's.\n",
    "What did you do the same?\n",
    "What did you do differently, and why?\n",
    "\n",
    "~~~python\n",
    "n = 10\n",
    "s = 'et cetera'\n",
    "print(s)\n",
    "i = 0\n",
    "while i < n:\n",
    "  # print('at', j)\n",
    "  new = ''\n",
    "  for j in range(len(s)):\n",
    "    left = j-1\n",
    "    right = (j+1)%len(s)\n",
    "    if s[left]==s[right]: \n",
    "      new += '-'\n",
    "    else: new += '*'\n",
    "      s=''.join(new)\n",
    "  print(s)\n",
    "  i += 1\n",
    "~~~"
   ]
  },
  {
   "cell_type": "markdown",
   "metadata": {},
   "source": [
    "## Key Points\n",
    "- Follow standard Python style in your code.\n",
    "- Use docstrings to provide online help."
   ]
  }
 ],
 "metadata": {
  "kernelspec": {
   "display_name": "Python 3",
   "language": "python",
   "name": "python3"
  },
  "language_info": {
   "codemirror_mode": {
    "name": "ipython",
    "version": 3
   },
   "file_extension": ".py",
   "mimetype": "text/x-python",
   "name": "python",
   "nbconvert_exporter": "python",
   "pygments_lexer": "ipython3",
   "version": "3.6.5"
  }
 },
 "nbformat": 4,
 "nbformat_minor": 2
}
