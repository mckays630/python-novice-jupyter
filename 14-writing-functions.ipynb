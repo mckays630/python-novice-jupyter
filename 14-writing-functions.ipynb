{
 "cells": [
  {
   "cell_type": "markdown",
   "metadata": {},
   "source": [
    "# Writing Functions"
   ]
  },
  {
   "cell_type": "markdown",
   "metadata": {},
   "source": [
    "## Break programs down into functions to make them easier to understand.\n",
    "\n",
    "*   Human beings can only keep a few items in working memory at a time.\n",
    "*   Understand larger/more complicated ideas by understanding and combining pieces.\n",
    "*   Components in a machine.\n",
    "*   Lemmas when proving theorems.\n",
    "*   Functions serve the same purpose in programs.\n",
    "*   *Encapsulate* complexity so that we can treat it as a single \"thing\".\n",
    "*   Also enables *re-use*.\n",
    "*   Write one time, use many times.\n",
    "\n",
    "## Define a function using `def` with a name, parameters, and a block of code.\n",
    "\n",
    "*   Begin the definition of a new function with `def`.\n",
    "*   Followed by the name of the function.\n",
    "*   Must obey the same rules as variable names.\n",
    "*   Then *parameters* in parentheses.\n",
    "*   Empty parentheses if the function doesn't take any inputs.\n",
    "*   We will discuss this in detail in a moment.\n",
    "*   Then a colon.\n",
    "*   Then an indented block of code."
   ]
  },
  {
   "cell_type": "code",
   "execution_count": null,
   "metadata": {},
   "outputs": [],
   "source": []
  },
  {
   "cell_type": "markdown",
   "metadata": {},
   "source": [
    "\n",
    "\n",
    "## Defining a function does not run it.\n",
    "\n",
    "*   Defining a function does not run it.\n",
    "*   Like assigning a value to a variable.\n",
    "*   Must call the function to execute the code it contains."
   ]
  },
  {
   "cell_type": "code",
   "execution_count": null,
   "metadata": {},
   "outputs": [],
   "source": []
  },
  {
   "cell_type": "markdown",
   "metadata": {},
   "source": [
    "\n",
    "\n",
    "## Arguments in call are matched to parameters in definition.\n",
    "\n",
    "*   Functions are most useful when they can operate on different data.\n",
    "*   Specify *parameters* when defining a function.\n",
    "*   These become variables when the function is executed.\n",
    "*   Are assigned the arguments in the call (i.e., the values passed to the function).\n",
    "*   If you don't name the arguments when using them in the call, the arguments will be matched to\n",
    "parameters in the order the parameters are defined in the function."
   ]
  },
  {
   "cell_type": "code",
   "execution_count": null,
   "metadata": {},
   "outputs": [],
   "source": []
  },
  {
   "cell_type": "markdown",
   "metadata": {},
   "source": [
    "\n",
    "\n",
    "Or, we can name the arguments when we call the function, which allows us to\n",
    "specify them in any order:"
   ]
  },
  {
   "cell_type": "code",
   "execution_count": null,
   "metadata": {},
   "outputs": [],
   "source": []
  },
  {
   "cell_type": "markdown",
   "metadata": {},
   "source": [
    "\n",
    "\n",
    "*   Via [Twitter](https://twitter.com/minisciencegirl/status/693486088963272705):\n",
    "`()` contains the ingredients for the function\n",
    "while the body contains the recipe.\n",
    "\n",
    "## Functions may return a result to their caller using `return`.\n",
    "\n",
    "*   Use `return ...` to give a value back to the caller.\n",
    "*   May occur anywhere in the function.\n",
    "*   But functions are easier to understand if `return` occurs:\n",
    "*   At the start to handle special cases.\n",
    "*   At the very end, with a final result."
   ]
  },
  {
   "cell_type": "code",
   "execution_count": null,
   "metadata": {},
   "outputs": [],
   "source": []
  },
  {
   "cell_type": "markdown",
   "metadata": {},
   "source": [
    "\n",
    "\n",
    "*   Remember: [every function returns something]({{ page.root }}/04-built-in/).\n",
    "*   A function that doesn't explicitly `return` a value automatically returns `None`."
   ]
  },
  {
   "cell_type": "code",
   "execution_count": null,
   "metadata": {},
   "outputs": [],
   "source": []
  },
  {
   "cell_type": "markdown",
   "metadata": {},
   "source": [
    "# Challenges"
   ]
  },
  {
   "cell_type": "markdown",
   "metadata": {},
   "source": [
    "## Identifying Syntax Errors\n",
    "\n",
    "1. Read the code below and try to identify what the errors are\n",
    "*without* running it.\n",
    "2. Run the code and read the error message.\n",
    "Is it a `SyntaxError` or an `IndentationError`?\n",
    "3. Fix the error.\n",
    "4. Repeat steps 2 and 3 until you have fixed all the errors.\n",
    "\n",
    "~~~\n",
    "def another_function\n",
    "print(\"Syntax errors are annoying.\")\n",
    "print(\"But at least python tells us about them!\")\n",
    "print(\"So they are usually not too hard to fix.\")\n",
    "~~~"
   ]
  },
  {
   "cell_type": "code",
   "execution_count": null,
   "metadata": {},
   "outputs": [],
   "source": []
  },
  {
   "cell_type": "markdown",
   "metadata": {},
   "source": [
    "## Definition and Use\n",
    "\n",
    "What does the following program print?\n",
    "\n",
    "~~~\n",
    "def report(pressure):\n",
    "print('pressure is', pressure)\n",
    "\n",
    "print('calling', report, 22.5)\n",
    "~~~"
   ]
  },
  {
   "cell_type": "code",
   "execution_count": null,
   "metadata": {},
   "outputs": [],
   "source": []
  },
  {
   "cell_type": "markdown",
   "metadata": {},
   "source": [
    "## Order of Operations\n",
    "\n",
    "The example above:\n",
    "\n",
    "~~~\n",
    "result = print_date(1871, 3, 19)\n",
    "print('result of call is:', result)\n",
    "~~~\n",
    "\n",
    "\n",
    "printed:\n",
    "~~~\n",
    "1871/3/19\n",
    "result of call is: None\n",
    "~~~\n",
    "\n",
    "\n",
    "Explain why the two lines of output appeared in the order they did."
   ]
  },
  {
   "cell_type": "code",
   "execution_count": null,
   "metadata": {},
   "outputs": [],
   "source": []
  },
  {
   "cell_type": "markdown",
   "metadata": {},
   "source": [
    "What's wrong in this example?\n",
    "~~~\n",
    "result = print_date(1871,3,19)\n",
    "\n",
    "def print_date(year, month, day):\n",
    "joined = str(year) + '/' + str(month) + '/' + str(day)\n",
    "print(joined)\n",
    "~~~"
   ]
  },
  {
   "cell_type": "code",
   "execution_count": null,
   "metadata": {},
   "outputs": [],
   "source": []
  },
  {
   "cell_type": "markdown",
   "metadata": {},
   "source": [
    "## Encapsulation\n",
    "\n",
    "Fill in the blanks to create a function that takes a single filename as an argument,\n",
    "loads the data in the file named by the argument,\n",
    "and returns the minimum value in that data.\n",
    "\n",
    "~~~\n",
    "import pandas\n",
    "\n",
    "def min_in_data(____):\n",
    "data = ____\n",
    "return ____\n",
    "~~~"
   ]
  },
  {
   "cell_type": "code",
   "execution_count": null,
   "metadata": {},
   "outputs": [],
   "source": []
  },
  {
   "cell_type": "markdown",
   "metadata": {},
   "source": [
    "## Find the First\n",
    "\n",
    "Fill in the blanks to create a function that takes a list of numbers as an argument\n",
    "and returns the first negative value in the list.\n",
    "What does your function do if the list is empty?\n",
    "\n",
    "~~~\n",
    "def first_negative(values):\n",
    "for v in ____:\n",
    "if ____:\n",
    "return ____\n",
    "~~~"
   ]
  },
  {
   "cell_type": "code",
   "execution_count": null,
   "metadata": {},
   "outputs": [],
   "source": []
  },
  {
   "cell_type": "markdown",
   "metadata": {},
   "source": [
    "## Calling by Name\n",
    "\n",
    "Earlier we saw this function:\n",
    "\n",
    "~~~\n",
    "def print_date(year, month, day):\n",
    "joined = str(year) + '/' + str(month) + '/' + str(day)\n",
    "print(joined)\n",
    "~~~\n",
    "We saw that we can call the function using *named arguments*, like this:\n",
    "~~~\n",
    "print_date(day=1, month=2, year=2003)\n",
    "~~~\n",
    "\n",
    "\n",
    "1.  What does `print_date(day=1, month=2, year=2003)` print?\n",
    "2.  When have you seen a function call like this before?\n",
    "3.  When and why is it useful to call functions this way?"
   ]
  },
  {
   "cell_type": "code",
   "execution_count": null,
   "metadata": {},
   "outputs": [],
   "source": []
  },
  {
   "cell_type": "markdown",
   "metadata": {},
   "source": [
    "## Encapsulate of If/Print Block\n",
    "\n",
    "The code below will run on a label-printer for chicken eggs.  A digital scale will report a chicken egg mass (in grams) to the computer and then the computer will print a label.  \n",
    "\n",
    "Please re-write the code so that the if-block is folded into a function.\n",
    "\n",
    "~~~\n",
    "import random\n",
    "for i in range(10):\n",
    "\n",
    "# simulating the mass of a chicken egg\n",
    "# the (random) mass will be 70 +/- 20 grams\n",
    "mass=70+20.0*(2.0*random.random()-1.0)\n",
    "\n",
    "print(mass)\n",
    "\n",
    "#egg sizing machinery prints a label\n",
    "if(mass>=85):\n",
    "print(\"jumbo\")\n",
    "elif(mass>=70):\n",
    "print(\"large\")\n",
    "elif(mass<70 and mass>=55):\n",
    "print(\"medium\")\n",
    "else:\n",
    "print(\"small\")\n",
    "~~~"
   ]
  },
  {
   "cell_type": "code",
   "execution_count": null,
   "metadata": {},
   "outputs": [],
   "source": []
  },
  {
   "cell_type": "markdown",
   "metadata": {},
   "source": [
    "The simplified program  follows.  What function definition will make it functional?\n",
    "\n",
    "~~~\n",
    "# revised version\n",
    "import random\n",
    "for i in range(10):\n",
    "\n",
    "# simulating the mass of a chicken egg\n",
    "# the (random) mass will be 70 +/- 20 grams\n",
    "mass=70+20.0*(2.0*random.random()-1.0)\n",
    "\n",
    "print(mass,print_egg_label(mass))    \n",
    "\n",
    "~~~\n",
    "\n",
    "\n",
    "\n",
    "1. Create a function definition for `print_egg_label()` that will work with the revised program above.  Note, the function's return value will be significant. Sample output might be `71.23 large`.\n",
    "2.  A dirty egg might have a mass of more than 90 grams, and a spoiled or broken egg will probably have a mass that's less than 50 grams.  Modify your `print_egg_label()` function to account for these error conditions. Sample output could be `25 too light, probably spoiled`."
   ]
  },
  {
   "cell_type": "code",
   "execution_count": null,
   "metadata": {},
   "outputs": [],
   "source": []
  },
  {
   "cell_type": "markdown",
   "metadata": {},
   "source": [
    "## Encapsulating Data Analysis\n",
    "\n",
    "Assume that the following code has been executed:\n",
    "\n",
    "~~~python\n",
    "import pandas\n",
    "\n",
    "df = pandas.read_csv('data/gapminder_gdp_asia.csv', index_col=0)\n",
    "japan = df.loc['Japan']\n",
    "~~~\n",
    "\n",
    "\n",
    "1. Complete the statements below to obtain the average GDP for Japan\n",
    "across the years reported for the 1980s.\n",
    "\n",
    "~~~python\n",
    "year = 1983\n",
    "gdp_decade = 'gdpPercap_' + str(year // ____)\n",
    "avg = (japan.loc[gdp_decade + ___] + japan.loc[gdp_decade + ___]) / 2\n",
    "~~~"
   ]
  },
  {
   "cell_type": "code",
   "execution_count": null,
   "metadata": {},
   "outputs": [],
   "source": []
  },
  {
   "cell_type": "markdown",
   "metadata": {},
   "source": [
    "2. Abstract the code above into a single function.\n",
    "\n",
    "~~~python\n",
    "def avg_gdp_in_decade(country, continent, year):\n",
    "    df = pandas.read_csv('data/gapminder_gdp_'+___+'.csv',delimiter=',',index_col=0)\n",
    "    ____\n",
    "    ____\n",
    "    ____\n",
    "    return avg\n",
    "~~~"
   ]
  },
  {
   "cell_type": "code",
   "execution_count": null,
   "metadata": {},
   "outputs": [],
   "source": []
  },
  {
   "cell_type": "markdown",
   "metadata": {},
   "source": [
    "3. How would you generalize this function\n",
    "if you did not know beforehand which specific years occurred as columns in the data?\n",
    "For instance, what if we also had data from years ending in 1 and 9 for each decade?\n",
    "(Hint: use the columns to filter out the ones that correspond to the decade,\n",
    "instead of enumerating them in the code.)"
   ]
  },
  {
   "cell_type": "code",
   "execution_count": null,
   "metadata": {},
   "outputs": [],
   "source": []
  },
  {
   "cell_type": "markdown",
   "metadata": {},
   "source": [
    "## Simulating a dynamical system\n",
    "\n",
    "In mathematics, a [dynamical system](https://en.wikipedia.org/wiki/Dynamical_system) is a system in which a function describes the time dependence of a point in a geometrical space.  A canonical example of a dynamical system is a system called the [logistic map](https://en.wikipedia.org/wiki/Logistic_map).\n",
    "\n",
    "\n",
    "1. Define a function called `logistic_map` that takes two inputs: `x`, representing the state of the system at time _t_, and a parameter `r`. This function should return a value representing the state of the system at time _t+1_."
   ]
  },
  {
   "cell_type": "code",
   "execution_count": null,
   "metadata": {},
   "outputs": [],
   "source": []
  },
  {
   "cell_type": "markdown",
   "metadata": {},
   "source": [
    "2. Using a `for` loop, iterate the `logistic_map` function defined in part 1 starting from an initial condition of 0.5 for `t_final=10`, `100`, and `1000` periods. Store the intermediate results in a list so that after the `for` loop terminates you have accumulated a sequence of values representing the state of the logistic map at time _t=0,1,...,t_final_."
   ]
  },
  {
   "cell_type": "code",
   "execution_count": null,
   "metadata": {},
   "outputs": [],
   "source": []
  },
  {
   "cell_type": "markdown",
   "metadata": {},
   "source": [
    "3. Encapsulate the logic of your `for` loop into a function called `iterate` that takes the initial condition as its first input, the parameter `t_final` as its second input and the parameter `r` as its third input. The function should return the list of values representing the state of the logistic map at time _t=0,1,...,t_final_."
   ]
  },
  {
   "cell_type": "code",
   "execution_count": null,
   "metadata": {},
   "outputs": [],
   "source": []
  },
  {
   "cell_type": "markdown",
   "metadata": {},
   "source": [
    "## Key Points\n",
    "- Break programs down into functions to make them easier to understand.\"\n",
    "- Define a function using `def` with a name, parameters, and a block of code.\"\n",
    "- Defining a function does not run it.\"\n",
    "- Arguments in call are matched to parameters in definition.\"\n",
    "- Functions may return a result to their caller using `return`.\""
   ]
  }
 ],
 "metadata": {
  "kernelspec": {
   "display_name": "Python 3",
   "language": "python",
   "name": "python3"
  },
  "language_info": {
   "codemirror_mode": {
    "name": "ipython",
    "version": 3
   },
   "file_extension": ".py",
   "mimetype": "text/x-python",
   "name": "python",
   "nbconvert_exporter": "python",
   "pygments_lexer": "ipython3",
   "version": "3.6.5"
  }
 },
 "nbformat": 4,
 "nbformat_minor": 2
}
